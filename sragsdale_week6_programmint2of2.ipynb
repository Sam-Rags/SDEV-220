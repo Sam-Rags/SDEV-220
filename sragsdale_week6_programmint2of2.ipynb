{
 "cells": [
  {
   "cell_type": "code",
   "execution_count": 8,
   "id": "528cc69b-4d42-4f8a-b90d-8ac7a6f607d2",
   "metadata": {},
   "outputs": [],
   "source": [
    "'''\n",
    "15.1 Use multiprocessing to create three separate processes. \n",
    "Make each one wait a random number of seconds between zero and one, \n",
    "print the current time, and then exit.\n",
    "'''\n",
    "\n",
    "import multiprocessing\n",
    "\n",
    "def now(seconds):\n",
    "    from datetime import datetime\n",
    "    from time import sleep\n",
    "    import time\n",
    "    sleep(seconds)\n",
    "    print('wait', seconds, 'seconds, time is', time.ctime())\n",
    "\n",
    "if __name__ == '__main__':\n",
    "    import random\n",
    "    for n in range(3):\n",
    "        seconds = random.random()\n",
    "        proc = multiprocessing.Process(target=now, args=(seconds,))\n",
    "        proc.start()\n",
    "\n"
   ]
  },
  {
   "cell_type": "code",
   "execution_count": null,
   "id": "d12d871f-d4ec-49cd-a418-6edf5724b639",
   "metadata": {},
   "outputs": [],
   "source": []
  }
 ],
 "metadata": {
  "kernelspec": {
   "display_name": "Python 3",
   "language": "python",
   "name": "python3"
  },
  "language_info": {
   "codemirror_mode": {
    "name": "ipython",
    "version": 3
   },
   "file_extension": ".py",
   "mimetype": "text/x-python",
   "name": "python",
   "nbconvert_exporter": "python",
   "pygments_lexer": "ipython3",
   "version": "3.12.6"
  }
 },
 "nbformat": 4,
 "nbformat_minor": 5
}
