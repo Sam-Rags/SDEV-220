{
 "cells": [
  {
   "cell_type": "code",
   "execution_count": 17,
   "id": "9e8ba863-41a9-45fd-be95-aae3dcfe86c1",
   "metadata": {},
   "outputs": [
    {
     "name": "stdout",
     "output_type": "stream",
     "text": [
      "Today is November 11, 2024\n",
      "\n"
     ]
    }
   ],
   "source": [
    "'''\n",
    "Author: Samuel Ragsdale\n",
    "Date written: 11/27/2024\n",
    "Description:\n",
    "13.1 Write the current date as a string to the text file today.txt.\n",
    "\n",
    "13.2 Read the text file today.txt into the string today_string.\n",
    "\n",
    "13.3 Parse the date from today_string.\n",
    "\n",
    "'''\n",
    "\n",
    "import time\n",
    "\n",
    "now = time.time()\n",
    "time.ctime(now)\n",
    "\n",
    "\n",
    "format = \"Today is %B %m, %Y\"\n",
    "t = time.localtime()\n",
    "time.strftime(format, t)\n",
    "\n",
    "date_today = open('date.txt', 'wt')\n",
    "print(time.strftime(format, t), file=date_today)\n",
    "date_today.close()\n",
    "\n",
    "fin = open('date.txt', 'rt')\n",
    "today_string = fin.read()\n",
    "fin.close()\n",
    "\n",
    "print(today_string)"
   ]
  },
  {
   "cell_type": "code",
   "execution_count": null,
   "id": "566501b1-b57a-4e90-adb4-e27cc17b059c",
   "metadata": {},
   "outputs": [],
   "source": []
  }
 ],
 "metadata": {
  "kernelspec": {
   "display_name": "Python 3 (ipykernel)",
   "language": "python",
   "name": "python3"
  },
  "language_info": {
   "codemirror_mode": {
    "name": "ipython",
    "version": 3
   },
   "file_extension": ".py",
   "mimetype": "text/x-python",
   "name": "python",
   "nbconvert_exporter": "python",
   "pygments_lexer": "ipython3",
   "version": "3.12.4"
  }
 },
 "nbformat": 4,
 "nbformat_minor": 5
}
