{
 "cells": [
  {
   "cell_type": "code",
   "execution_count": 1,
   "id": "310ccbd2-da30-4949-9a96-8e330c265d2f",
   "metadata": {},
   "outputs": [
    {
     "name": "stdout",
     "output_type": "stream",
     "text": [
      "3600\n",
      "86400\n",
      "24.0\n",
      "24\n"
     ]
    }
   ],
   "source": [
    "'''\n",
    "Author: Samuel Ragsdale\n",
    "Date completed: 24 October 2024\n",
    "Description: Module 3.1 - 3.6 from the text book Introducing Python 2nd edition\n",
    "In this program I demonstrate the use of variables and math functions\n",
    "native to Python. Starting with calculating the number of seconds in\n",
    "an hour, assigning that number to a variable and using that variable\n",
    "to work out how many seconds in a day (also in a variable). Finally,\n",
    "using division to determine how many hours in a day using floating point \n",
    "and integer division.\n",
    "'''\n",
    "\n",
    "#3.1 - Calculation for seconds in an hour\n",
    "print(60 * 60)\n",
    "\n",
    "#3.2 - Previous calculus assigned to variable\n",
    "seconds_per_hour = 60 * 60\n",
    "\n",
    "#3.3 - seconds_per_hour used to calculate seconds in a day\n",
    "\n",
    "print(seconds_per_hour * 24)\n",
    "\n",
    "#3.4 - previous calculus assigned to a variable\n",
    "\n",
    "seconds_per_day = seconds_per_hour * 24\n",
    "\n",
    "#3.5 - floating point division of seconds_per_day by seconds_per_hour\n",
    "\n",
    "print(seconds_per_day / seconds_per_hour)\n",
    "\n",
    "#3.6 - same as 3.5 but with integer division instead\n",
    "\n",
    "print(seconds_per_day // seconds_per_hour)\n"
   ]
  },
  {
   "cell_type": "code",
   "execution_count": null,
   "id": "a42a4075-cee0-4749-9176-0c007508a1bf",
   "metadata": {},
   "outputs": [],
   "source": []
  }
 ],
 "metadata": {
  "kernelspec": {
   "display_name": "Python 3 (ipykernel)",
   "language": "python",
   "name": "python3"
  },
  "language_info": {
   "codemirror_mode": {
    "name": "ipython",
    "version": 3
   },
   "file_extension": ".py",
   "mimetype": "text/x-python",
   "name": "python",
   "nbconvert_exporter": "python",
   "pygments_lexer": "ipython3",
   "version": "3.12.4"
  }
 },
 "nbformat": 4,
 "nbformat_minor": 5
}
